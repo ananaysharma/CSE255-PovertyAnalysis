{
 "cells": [
  {
   "cell_type": "code",
   "execution_count": 1,
   "id": "23a64271",
   "metadata": {},
   "outputs": [
    {
     "name": "stdout",
     "output_type": "stream",
     "text": [
      "Populating the interactive namespace from numpy and matplotlib\n"
     ]
    }
   ],
   "source": [
    "import pandas as pd\n",
    "%pylab inline"
   ]
  },
  {
   "cell_type": "markdown",
   "id": "0018d916",
   "metadata": {},
   "source": [
    "## load training data"
   ]
  },
  {
   "cell_type": "code",
   "execution_count": 3,
   "id": "c4fc8d5a",
   "metadata": {
    "scrolled": false
   },
   "outputs": [
    {
     "data": {
      "text/plain": [
       "'/home/ans037/public/cs255-sp22-a00-public/poverty/anon_images/'"
      ]
     },
     "execution_count": 3,
     "metadata": {},
     "output_type": "execute_result"
    }
   ],
   "source": [
    "# df=pd.read_csv('../public_tables/train.csv',index_col=0)\n",
    "# df.head()\n",
    "import os\n",
    "path = os.getcwd()\n",
    "_uname = path.split('/')[2]\n",
    "poverty_dir=f'/home/{_uname}/public/cs255-sp22-a00-public/poverty/'\n",
    "image_dir=poverty_dir+'anon_images/'\n",
    "image_dir"
   ]
  },
  {
   "cell_type": "code",
   "execution_count": 6,
   "id": "ea61438a",
   "metadata": {},
   "outputs": [
    {
     "data": {
      "text/html": [
       "<div>\n",
       "<style scoped>\n",
       "    .dataframe tbody tr th:only-of-type {\n",
       "        vertical-align: middle;\n",
       "    }\n",
       "\n",
       "    .dataframe tbody tr th {\n",
       "        vertical-align: top;\n",
       "    }\n",
       "\n",
       "    .dataframe thead th {\n",
       "        text-align: right;\n",
       "    }\n",
       "</style>\n",
       "<table border=\"1\" class=\"dataframe\">\n",
       "  <thead>\n",
       "    <tr style=\"text-align: right;\">\n",
       "      <th></th>\n",
       "      <th>filename</th>\n",
       "      <th>country</th>\n",
       "      <th>wealthpooled</th>\n",
       "      <th>urban</th>\n",
       "      <th>label</th>\n",
       "      <th>nl_mean</th>\n",
       "    </tr>\n",
       "  </thead>\n",
       "  <tbody>\n",
       "    <tr>\n",
       "      <th>0</th>\n",
       "      <td>image13724.npz</td>\n",
       "      <td>6</td>\n",
       "      <td>-1.090052</td>\n",
       "      <td>False</td>\n",
       "      <td>0</td>\n",
       "      <td>-0.097684</td>\n",
       "    </tr>\n",
       "    <tr>\n",
       "      <th>1</th>\n",
       "      <td>image7407.npz</td>\n",
       "      <td>6</td>\n",
       "      <td>-1.143002</td>\n",
       "      <td>False</td>\n",
       "      <td>0</td>\n",
       "      <td>-0.141589</td>\n",
       "    </tr>\n",
       "    <tr>\n",
       "      <th>2</th>\n",
       "      <td>image390.npz</td>\n",
       "      <td>6</td>\n",
       "      <td>1.056769</td>\n",
       "      <td>True</td>\n",
       "      <td>0</td>\n",
       "      <td>15.228898</td>\n",
       "    </tr>\n",
       "    <tr>\n",
       "      <th>3</th>\n",
       "      <td>image814.npz</td>\n",
       "      <td>6</td>\n",
       "      <td>1.701110</td>\n",
       "      <td>True</td>\n",
       "      <td>1</td>\n",
       "      <td>5.055367</td>\n",
       "    </tr>\n",
       "    <tr>\n",
       "      <th>4</th>\n",
       "      <td>image19332.npz</td>\n",
       "      <td>6</td>\n",
       "      <td>1.547713</td>\n",
       "      <td>True</td>\n",
       "      <td>1</td>\n",
       "      <td>12.907397</td>\n",
       "    </tr>\n",
       "  </tbody>\n",
       "</table>\n",
       "</div>"
      ],
      "text/plain": [
       "         filename  country  wealthpooled  urban  label    nl_mean\n",
       "0  image13724.npz        6     -1.090052  False      0  -0.097684\n",
       "1   image7407.npz        6     -1.143002  False      0  -0.141589\n",
       "2    image390.npz        6      1.056769   True      0  15.228898\n",
       "3    image814.npz        6      1.701110   True      1   5.055367\n",
       "4  image19332.npz        6      1.547713   True      1  12.907397"
      ]
     },
     "execution_count": 6,
     "metadata": {},
     "output_type": "execute_result"
    }
   ],
   "source": [
    "train_table = f'/home/{_uname}/public/Datasets_public/Final_Project_Data/train.csv'\n",
    "df = pd.read_csv(train_table,index_col=0)\n",
    "df.head()"
   ]
  },
  {
   "cell_type": "code",
   "execution_count": 7,
   "id": "6bee3f0f",
   "metadata": {},
   "outputs": [
    {
     "data": {
      "text/plain": [
       "((11288, 6), (4020, 6))"
      ]
     },
     "execution_count": 7,
     "metadata": {},
     "output_type": "execute_result"
    }
   ],
   "source": [
    "urban_df=df[df['urban']==True]\n",
    "df.shape,urban_df.shape"
   ]
  },
  {
   "cell_type": "code",
   "execution_count": 8,
   "id": "c81adc4b",
   "metadata": {},
   "outputs": [
    {
     "data": {
      "image/png": "[encoded data removed]",
      "text/plain": [
       "<Figure size 432x288 with 1 Axes>"
      ]
     },
     "metadata": {
      "needs_background": "light"
     },
     "output_type": "display_data"
    }
   ],
   "source": [
    "hist(df['wealthpooled'],bins=100,density=True);\n",
    "title('Wealth Overall');\n",
    "grid()"
   ]
  },
  {
   "cell_type": "code",
   "execution_count": 9,
   "id": "b22dedfa",
   "metadata": {
    "scrolled": false
   },
   "outputs": [
    {
     "data": {
      "image/png": "[encoded data removed]",
      "text/plain": [
       "<Figure size 432x288 with 1 Axes>"
      ]
     },
     "metadata": {
      "needs_background": "light"
     },
     "output_type": "display_data"
    }
   ],
   "source": [
    "hist(urban_df['wealthpooled'],bins=100,density=True);\n",
    "title('Wealth for Urban');\n",
    "plot([1.2,1.2],[0,1])\n",
    "\n",
    "grid()"
   ]
  },
  {
   "cell_type": "markdown",
   "id": "91ef9125",
   "metadata": {},
   "source": [
    "Threshold for urban is 1.2"
   ]
  },
  {
   "cell_type": "code",
   "execution_count": 10,
   "id": "2da422d6",
   "metadata": {
    "scrolled": false
   },
   "outputs": [
    {
     "data": {
      "image/png": "[encoded data removed]",
      "text/plain": [
       "<Figure size 432x288 with 1 Axes>"
      ]
     },
     "metadata": {
      "needs_background": "light"
     },
     "output_type": "display_data"
    }
   ],
   "source": [
    "rural_df=df[df['urban']==False]\n",
    "hist(rural_df['wealthpooled'],bins=100,density=True);\n",
    "title('Wealth for Rural');\n",
    "plot([-0.5,-0.5],[0,1])\n",
    "grid()\n"
   ]
  },
  {
   "cell_type": "markdown",
   "id": "caa59d3b",
   "metadata": {},
   "source": [
    "threshold for rural is -0.5"
   ]
  },
  {
   "cell_type": "markdown",
   "id": "a898976c",
   "metadata": {},
   "source": [
    "## counts\n",
    "Number of images from each of 18 (anonymized) countries in training set."
   ]
  },
  {
   "cell_type": "code",
   "execution_count": 11,
   "id": "bf6ac722",
   "metadata": {},
   "outputs": [
    {
     "data": {
      "text/plain": [
       "Counter({6: 644,\n",
       "         11: 565,\n",
       "         14: 591,\n",
       "         12: 435,\n",
       "         16: 264,\n",
       "         10: 361,\n",
       "         1: 906,\n",
       "         4: 230,\n",
       "         9: 1392,\n",
       "         0: 607,\n",
       "         3: 442,\n",
       "         5: 644,\n",
       "         13: 1081,\n",
       "         15: 717,\n",
       "         7: 345,\n",
       "         2: 1224,\n",
       "         17: 235,\n",
       "         8: 605})"
      ]
     },
     "execution_count": 11,
     "metadata": {},
     "output_type": "execute_result"
    }
   ],
   "source": [
    "from collections import Counter\n",
    "Counter(df['country'])"
   ]
  },
  {
   "cell_type": "code",
   "execution_count": 12,
   "id": "9c0b895d",
   "metadata": {},
   "outputs": [
    {
     "data": {
      "text/plain": [
       "Counter({False: 7268, True: 4020})"
      ]
     },
     "execution_count": 12,
     "metadata": {},
     "output_type": "execute_result"
    }
   ],
   "source": [
    "Counter(df['urban'])"
   ]
  }
 ],
 "metadata": {
  "kernelspec": {
   "display_name": "Python 3 (ipykernel)",
   "language": "python",
   "name": "python3"
  },
  "language_info": {
   "codemirror_mode": {
    "name": "ipython",
    "version": 3
   },
   "file_extension": ".py",
   "mimetype": "text/x-python",
   "name": "python",
   "nbconvert_exporter": "python",
   "pygments_lexer": "ipython3",
   "version": "3.9.5"
  },
  "toc": {
   "base_numbering": 1,
   "nav_menu": {},
   "number_sections": true,
   "sideBar": true,
   "skip_h1_title": false,
   "title_cell": "Table of Contents",
   "title_sidebar": "Contents",
   "toc_cell": false,
   "toc_position": {},
   "toc_section_display": true,
   "toc_window_display": false
  }
 },
 "nbformat": 4,
 "nbformat_minor": 5
}
