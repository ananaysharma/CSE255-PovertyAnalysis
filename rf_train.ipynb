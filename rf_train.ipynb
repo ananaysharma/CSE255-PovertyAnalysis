{
 "cells": [
  {
   "cell_type": "code",
   "execution_count": 1,
   "id": "7678689b",
   "metadata": {},
   "outputs": [
    {
     "name": "stdout",
     "output_type": "stream",
     "text": [
      "Populating the interactive namespace from numpy and matplotlib\n"
     ]
    }
   ],
   "source": [
    "%pylab inline\n",
    "from glob import glob\n",
    "from numpy import load\n",
    "import pandas as pd\n",
    "import numpy as np\n",
    "import copy\n",
    "\n",
    "from time import time\n",
    "import pickle as pkl\n",
    "import os\n",
    "import cv2\n",
    "import xgboost as xgb\n",
    "from sklearn.model_selection import train_test_split\n",
    "from sklearn.metrics import accuracy_score"
   ]
  },
  {
   "cell_type": "code",
   "execution_count": 2,
   "id": "e852d8be",
   "metadata": {},
   "outputs": [
    {
     "data": {
      "text/plain": [
       "'/home/ans037/public/cs255-sp22-a00-public/poverty/anon_images/'"
      ]
     },
     "execution_count": 2,
     "metadata": {},
     "output_type": "execute_result"
    }
   ],
   "source": [
    "import os\n",
    "path = os.getcwd()\n",
    "_uname = path.split('/')[2]\n",
    "poverty_dir=f'/home/{_uname}/public/cs255-sp22-a00-public/poverty/'\n",
    "image_dir=poverty_dir+'anon_images/'\n",
    "image_dir"
   ]
  },
  {
   "cell_type": "code",
   "execution_count": 3,
   "id": "9e72e875",
   "metadata": {},
   "outputs": [],
   "source": [
    "train_table=f'/home/{_uname}/public/Datasets_public/Final_Project_Data/train.csv'\n",
    "df=pd.read_csv(train_table,index_col=0)\n",
    "df.index=df['filename']"
   ]
  },
  {
   "cell_type": "code",
   "execution_count": 4,
   "id": "f3cfffc2",
   "metadata": {},
   "outputs": [],
   "source": [
    "def getImage(image):\n",
    "    M = np.load(image)\n",
    "    l = []\n",
    "    for i in range(8):\n",
    "        l.append(cv2.resize(M['x'][ i , :, :], (20, 20)))\n",
    "    return np.array(l)"
   ]
  },
  {
   "cell_type": "code",
   "execution_count": 5,
   "id": "c2fe56c8",
   "metadata": {},
   "outputs": [],
   "source": [
    "df['Image'] = df.apply(lambda x: getImage(image_dir + '/'+ x['filename']), axis=1)"
   ]
  },
  {
   "cell_type": "code",
   "execution_count": 6,
   "id": "e45575ea",
   "metadata": {},
   "outputs": [],
   "source": [
    "df1 = df.copy(deep=True)"
   ]
  },
  {
   "cell_type": "code",
   "execution_count": 7,
   "id": "44d8991e",
   "metadata": {},
   "outputs": [],
   "source": [
    "def calculate_indices(df, train=True):\n",
    "    if train:\n",
    "        df = df.drop(['filename', 'wealthpooled'], axis=1)\n",
    "    else:\n",
    "        df = df.drop(['filename'], axis=1)\n",
    "    \n",
    "    df = df.reset_index(drop=True)\n",
    "    band_names = ['Red', 'Green', 'Blue', 'NIR', 'SWIR1', 'SWIR2', 'TEMP1', 'NL']\n",
    "    \n",
    "    for i in range(len(band_names)):\n",
    "        df[band_names[i]] = df.apply(lambda x: x['Image'][i, :, :], axis=1)\n",
    "\n",
    "    # Calculate the bare soil indices\n",
    "    df['MBI'] = (df['SWIR1'] - df['SWIR1'] - df['NIR']) / (df['SWIR1'] + df['SWIR2'] + df['NIR']) + 0.5\n",
    "    df['BSI'] = (df['SWIR1'] + df['Red'] - df['NIR'] - df['Blue']) / (df['SWIR1'] + df['Red'] + df['NIR'] + df['Blue'])\n",
    "    #df['BSI1'] = (df['SWIR1'] + df['Red'] - df['NIR'] - df['Blue']) / (df['SWIR1'] + df['Red'] + df['NIR'] + df['Blue'])\n",
    "    #df['BSI3'] = ((df['SWIR1'] + df['Red'] - df['NIR'] - df['Blue']) / (df['SWIR1'] + df['Red'] + df['NIR'] + df['Blue'])) * 100 + 100\n",
    "    df['NDSI1'] = (df['SWIR1'] - df['NIR']) / (df['SWIR1'] + df['NIR'])\n",
    "    df['NDSI2'] = (df['SWIR1'] - df['Green']) / (df['SWIR1'] + df['Green'])\n",
    "    df['BI'] = df['Red'] + df['SWIR1'] - df['NIR']\n",
    "    df['DBSI'] = (df['SWIR1'] - df['Green']) / (df['SWIR1'] + df['Green']) - (df['NIR'] - df['Red']) / (df['NIR'] + df['Red'])\n",
    "\n",
    "    df['BAEI'] = (df['Red'] + 0.3) / (df['Green'] + df['SWIR1'])\n",
    "    df['BUI'] = (df['SWIR1'] - df['NIR']) / (df['SWIR1'] + df['NIR']) - (df['NIR'] - df['Red']) / (df['NIR'] + df['Red'])\n",
    "    df['NBI'] = (df['Red'] - df['SWIR1']) / df['NIR']\n",
    "    df['BRBA'] = df['Red'] / df['SWIR1']\n",
    "    df['IBI'] = (2 * df['SWIR1'] / (df['SWIR1'] + df['NIR'])) - ((df['NIR'] / (df['NIR'] - df['Red']) + df['Green'] / (df['Green'] + df['SWIR1'])) / 2) * (df['SWIR1'] / (df['SWIR1'] + df['NIR'])) + (df['NIR'] / (df['NIR'] - df['Red']) + df['Green'] / (df['Green'] + df['SWIR1']))\n",
    "    df['NDCCI'] = (df['NIR'] - df['Green']) / (df['NIR'] + df['Green'])\n",
    "\n",
    "    # Vegetation indices\n",
    "    df['NDVI'] = (df['NIR'] - df['Red']) / (df['NIR'] + df['Red'])\n",
    "    df['SAVI'] = (df['NIR'] - df['Red']) / (df['NIR'] + df['Red'] + 0.5) * (1 + 0.5)\n",
    "    df['NDMI'] = (df['NIR'] - df['SWIR1']) / (df['NIR'] + df['SWIR1'])\n",
    "\n",
    "    # Built-up area indices\n",
    "    df['DBI'] = (df['Blue'] - df['TEMP1']) / (df['Blue'] + df['TEMP1']) - (df['NIR'] - df['Red']) / (df['NIR'] + df['Red'])\n",
    "    df['NBAI'] = ((df['SWIR2'] - df['SWIR1']) / df['Green']) / ((df['SWIR2'] + df['SWIR1']) / df['Green'])\n",
    "    df['NDBI'] = (df['SWIR1'] - df['NIR']) / (df['SWIR1'] + df['NIR'])\n",
    "\n",
    "    indices = ['MBI', 'BSI', 'NDSI1', 'NDSI2', 'BI', 'DBSI', 'BAEI', 'BUI', 'NBI', 'BRBA', 'IBI', 'NDCCI', 'NDVI', 'SAVI', 'NDMI', 'DBI', 'NBAI', 'NDBI']\n",
    "\n",
    "    for feature in list(indices + band_names):\n",
    "        df[f'{feature}_mean'] = df[f'{feature}'].apply(lambda x: np.mean(x))\n",
    "        df[f'{feature}_std'] = df[f'{feature}'].apply(lambda x: np.std(x))\n",
    "        df[f'{feature}_median'] = df[f'{feature}'].apply(lambda x: np.median(x))\n",
    "\n",
    "    df = df.drop(band_names, axis=1)\n",
    "    df = df.drop(indices, axis=1)\n",
    "    df = df.drop('Image', axis=1)\n",
    "    \n",
    "    return df"
   ]
  },
  {
   "cell_type": "code",
   "execution_count": 8,
   "id": "725fb5f2",
   "metadata": {},
   "outputs": [
    {
     "name": "stderr",
     "output_type": "stream",
     "text": [
      "/tmp/ipykernel_376/3243455848.py:45: PerformanceWarning: DataFrame is highly fragmented.  This is usually the result of calling `frame.insert` many times, which has poor performance.  Consider joining all columns at once using pd.concat(axis=1) instead. To get a de-fragmented frame, use `newframe = frame.copy()`\n",
      "  df[f'{feature}_median'] = df[f'{feature}'].apply(lambda x: np.median(x))\n"
     ]
    }
   ],
   "source": [
    "df1 = calculate_indices(df1, train=True)"
   ]
  },
  {
   "cell_type": "code",
   "execution_count": 9,
   "id": "ce3c4531",
   "metadata": {},
   "outputs": [
    {
     "data": {
      "text/plain": [
       "Index(['country', 'urban', 'label', 'nl_mean', 'MBI_mean', 'MBI_std',\n",
       "       'MBI_median', 'BSI_mean', 'BSI_std', 'BSI_median', 'NDSI1_mean',\n",
       "       'NDSI1_std', 'NDSI1_median', 'NDSI2_mean', 'NDSI2_std', 'NDSI2_median',\n",
       "       'BI_mean', 'BI_std', 'BI_median', 'DBSI_mean', 'DBSI_std',\n",
       "       'DBSI_median', 'BAEI_mean', 'BAEI_std', 'BAEI_median', 'BUI_mean',\n",
       "       'BUI_std', 'BUI_median', 'NBI_mean', 'NBI_std', 'NBI_median',\n",
       "       'BRBA_mean', 'BRBA_std', 'BRBA_median', 'IBI_mean', 'IBI_std',\n",
       "       'IBI_median', 'NDCCI_mean', 'NDCCI_std', 'NDCCI_median', 'NDVI_mean',\n",
       "       'NDVI_std', 'NDVI_median', 'SAVI_mean', 'SAVI_std', 'SAVI_median',\n",
       "       'NDMI_mean', 'NDMI_std', 'NDMI_median', 'DBI_mean', 'DBI_std',\n",
       "       'DBI_median', 'NBAI_mean', 'NBAI_std', 'NBAI_median', 'NDBI_mean',\n",
       "       'NDBI_std', 'NDBI_median', 'Red_mean', 'Red_std', 'Red_median',\n",
       "       'Green_mean', 'Green_std', 'Green_median', 'Blue_mean', 'Blue_std',\n",
       "       'Blue_median', 'NIR_mean', 'NIR_std', 'NIR_median', 'SWIR1_mean',\n",
       "       'SWIR1_std', 'SWIR1_median', 'SWIR2_mean', 'SWIR2_std', 'SWIR2_median',\n",
       "       'TEMP1_mean', 'TEMP1_std', 'TEMP1_median', 'NL_mean', 'NL_std',\n",
       "       'NL_median'],\n",
       "      dtype='object')"
      ]
     },
     "execution_count": 9,
     "metadata": {},
     "output_type": "execute_result"
    }
   ],
   "source": [
    "df1.columns"
   ]
  },
  {
   "cell_type": "markdown",
   "id": "8c612da4",
   "metadata": {},
   "source": [
    "## Training Random Forest"
   ]
  },
  {
   "cell_type": "code",
   "execution_count": 10,
   "id": "6775739f",
   "metadata": {},
   "outputs": [],
   "source": [
    "X = df1.drop('label', axis=1)\n",
    "y = df1['label']\n",
    "X_train, X_test, y_train, y_test = train_test_split(X, y, test_size=0.2, random_state=42)"
   ]
  },
  {
   "cell_type": "code",
   "execution_count": 11,
   "id": "f65cc4a6",
   "metadata": {},
   "outputs": [],
   "source": [
    "from sklearn.svm import SVC\n",
    "from sklearn.ensemble import RandomForestClassifier\n",
    "from sklearn.metrics import accuracy_score\n",
    "\n",
    "def train_random_forest(X_train, y_train):\n",
    "    rf = RandomForestClassifier(n_estimators=200, max_depth=10, bootstrap=True, oob_score=True)  # Customize the Random Forest hyperparameters as per your requirements\n",
    "    rf.fit(X_train, y_train)\n",
    "    return rf\n",
    "\n",
    "def evaluate_model(model, X, y):\n",
    "    y_pred = model.predict(X)\n",
    "    accuracy = accuracy_score(y, y_pred)\n",
    "    return accuracy"
   ]
  },
  {
   "cell_type": "code",
   "execution_count": 12,
   "id": "8c4c15d5",
   "metadata": {},
   "outputs": [],
   "source": [
    "rf_model = train_random_forest(X_train, y_train)\n",
    "\n",
    "rf_train_accuracy = evaluate_model(rf_model, X_train, y_train)\n",
    "    \n",
    "rf_test_accuracy = evaluate_model(rf_model, X_test, y_test)"
   ]
  },
  {
   "cell_type": "code",
   "execution_count": 13,
   "id": "454a68a9",
   "metadata": {},
   "outputs": [
    {
     "data": {
      "text/plain": [
       "(0.9058693244739756, 0.7657218777679362)"
      ]
     },
     "execution_count": 13,
     "metadata": {},
     "output_type": "execute_result"
    }
   ],
   "source": [
    "rf_train_accuracy, rf_test_accuracy"
   ]
  },
  {
   "cell_type": "code",
   "execution_count": null,
   "id": "83913a95",
   "metadata": {},
   "outputs": [],
   "source": []
  }
 ],
 "metadata": {
  "kernelspec": {
   "display_name": "Python 3 (ipykernel)",
   "language": "python",
   "name": "python3"
  },
  "language_info": {
   "codemirror_mode": {
    "name": "ipython",
    "version": 3
   },
   "file_extension": ".py",
   "mimetype": "text/x-python",
   "name": "python",
   "nbconvert_exporter": "python",
   "pygments_lexer": "ipython3",
   "version": "3.9.5"
  }
 },
 "nbformat": 4,
 "nbformat_minor": 5
}
